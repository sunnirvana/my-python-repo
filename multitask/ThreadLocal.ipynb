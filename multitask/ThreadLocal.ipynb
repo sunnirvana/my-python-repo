{
 "cells": [
  {
   "cell_type": "markdown",
   "metadata": {},
   "source": [
    "# ThreadLocal\n",
    "一个`ThreadLocal`变量虽然是全局变量，但每个线程都只能读写自己线程的独立副本，互不干扰。`ThreadLocal`解决了参数在一个线程中各个函数之间互相传递的问题。\n",
    "`ThreadLocal`最常用的地方就是为每个线程绑定一个数据库连接，HTTP请求，用户身份信息等，这样一个线程的所有调用到的处理函数都可以非常方便地访问这些资源。"
   ]
  },
  {
   "cell_type": "code",
   "execution_count": 7,
   "metadata": {},
   "outputs": [
    {
     "name": "stdout",
     "output_type": "stream",
     "text": [
      "Hello, Alice (in Thread-A)\n",
      "Hello, Bob (in Thread-B)\n"
     ]
    }
   ],
   "source": [
    "import threading\n",
    "\n",
    "local_school = threading.local()\n",
    "\n",
    "def process_student():\n",
    "    std = local_school.student\n",
    "    print('Hello, %s (in %s)' % (std, threading.currentThread().name))\n",
    "    \n",
    "def process_thread(name):\n",
    "    local_school.student = name\n",
    "    process_student()\n",
    "    \n",
    "\n",
    "t1 = threading.Thread(target=process_thread, args=('Alice', ), name='Thread-A')\n",
    "t2 = threading.Thread(target=process_thread, args=('Bob', ), name='Thread-B')\n",
    "t1.start()\n",
    "t2.start()\n",
    "t1.join()\n",
    "t2.join()\n",
    "    "
   ]
  }
 ],
 "metadata": {
  "kernelspec": {
   "display_name": "Python 3",
   "language": "python",
   "name": "python3"
  },
  "language_info": {
   "codemirror_mode": {
    "name": "ipython",
    "version": 3
   },
   "file_extension": ".py",
   "mimetype": "text/x-python",
   "name": "python",
   "nbconvert_exporter": "python",
   "pygments_lexer": "ipython3",
   "version": "3.7.0"
  }
 },
 "nbformat": 4,
 "nbformat_minor": 2
}
