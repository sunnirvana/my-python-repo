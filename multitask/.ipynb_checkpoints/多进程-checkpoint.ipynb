{
 "cells": [
  {
   "cell_type": "markdown",
   "metadata": {},
   "source": [
    "# 多进程相关\n",
    "- os.fork\n",
    "- multiprocessing Process\n",
    "- multiprocessing Pool\n",
    "- subprocess\n",
    "- multiprocessing Queue, Pipes\n",
    "\n",
    "在Unix/Linux下，multiprocessing模块封装了fork()调用，使我们不需要关注fork()的细节。由于Windows没有fork调用，因此，multiprocessing需要“模拟”出fork的效果，父进程所有Python对象都必须通过pickle序列化再传到子进程去，所有，如果multiprocessing在Windows下调用失败了，要先考虑是不是pickle失败了。"
   ]
  },
  {
   "cell_type": "markdown",
   "metadata": {
    "slideshow": {
     "slide_type": "subslide"
    }
   },
   "source": [
    "## os.fork\n",
    "使用fork创建多进程，返回2次。0为子进程，非0为父进程\n",
    "从调用fork()开始就已经是多进程\n",
    "os.fork()只能在Unix-like的操作系统上运行，Windows下没有"
   ]
  },
  {
   "cell_type": "code",
   "execution_count": 5,
   "metadata": {
    "scrolled": false
   },
   "outputs": [
    {
     "name": "stdout",
     "output_type": "stream",
     "text": [
      "Process (21132) start...\n",
      "I am the parent process (21132), spawn a child process (24016)\n",
      "Process (24016) start...\n",
      "I am the child process (24016), created by the process (21132)\n"
     ]
    }
   ],
   "source": [
    "# 例子，调用fork\n",
    "import os\n",
    "\n",
    "pid = os.fork()\n",
    "\n",
    "print('Process (%s) start...' % os.getpid())\n",
    "\n",
    "if pid == 0:\n",
    "    print('I am the child process (%d), created by the process (%d)' % (os.getpid(), os.getppid()))\n",
    "else:\n",
    "    print('I am the parent process (%d), spawn a child process (%d)' % (os.getpid(), pid))"
   ]
  },
  {
   "cell_type": "markdown",
   "metadata": {},
   "source": [
    "## multiprocessing\n",
    "跨平台的多进程。"
   ]
  },
  {
   "cell_type": "code",
   "execution_count": 4,
   "metadata": {},
   "outputs": [
    {
     "name": "stdout",
     "output_type": "stream",
     "text": [
      "Parent process 25599.\n",
      "Child process will start.\n",
      "Run child process test (45583)\n",
      "Child process ends.\n"
     ]
    }
   ],
   "source": [
    "# 例子，启动子进程\n",
    "from multiprocessing import Process\n",
    "import os\n",
    "\n",
    "def run_proc(name):\n",
    "    print('Run child process %s (%s)' % (name, os.getpid()))\n",
    "    \n",
    "def main():\n",
    "    print('Parent process %s.' % os.getpid())\n",
    "    p = Process(target=run_proc, args=('test', ))\n",
    "    print('Child process will start.')\n",
    "    # 子进程开启\n",
    "    p.start()\n",
    "    # join方法可以等待子进程结束后再继续往下运行，通常用于进程间的同步\n",
    "    p.join()\n",
    "    print('Child process ends.')\n",
    "    \n",
    "main()"
   ]
  },
  {
   "cell_type": "markdown",
   "metadata": {},
   "source": [
    "# Pool\n",
    "启动多个子进程"
   ]
  },
  {
   "cell_type": "code",
   "execution_count": 16,
   "metadata": {
    "scrolled": false
   },
   "outputs": [
    {
     "name": "stdout",
     "output_type": "stream",
     "text": [
      "Parent process 25599.\n",
      "Run task task 0 (48521)...\n",
      "Run task task 2 (48523)...\n",
      "Run task task 3 (48524)...\n",
      "Run task task 1 (48522)...\n",
      "Waiting for all subprocesses done...\n",
      "Task task 3 runs 1.09 seconds. \n",
      "Run task task 4 (48524)...\n",
      "Task task 0 runs 1.55 seconds. \n",
      "Task task 2 runs 2.03 seconds. \n",
      "Task task 1 runs 2.30 seconds. \n",
      "Task task 4 runs 2.24 seconds. \n",
      "All subprocesses done.\n"
     ]
    }
   ],
   "source": [
    "from multiprocessing import Pool\n",
    "import os, time, random\n",
    "\n",
    "def long_time_task(name):\n",
    "    print('Run task %s (%s)...' % (name, os.getpid()))\n",
    "    start = time.time()\n",
    "    time.sleep(random.random() * 3)\n",
    "    end = time.time()\n",
    "    print('Task %s runs %.2f seconds. ' % (name, (end - start)))\n",
    "\n",
    "def main():\n",
    "    print('Parent process %s.' % os.getpid())\n",
    "    # Pool的默认大小是CPU的核数\n",
    "    p = Pool(4)\n",
    "    for i in range(5):\n",
    "        p.apply_async(long_time_task, args=('task %d' % i, ))\n",
    "    print('Waiting for all subprocesses done...')\n",
    "    \n",
    "    # 调用join之前必须调用close, 调用close后就不能继续添加process了\n",
    "    p.close()\n",
    "    p.join()\n",
    "    \n",
    "    print('All subprocesses done.')\n",
    "    \n",
    "main()\n",
    "        "
   ]
  },
  {
   "cell_type": "markdown",
   "metadata": {},
   "source": [
    "从输出结果看，Task4是等到上面4个任务(一共5个)中的一个完成后，才运行的。"
   ]
  },
  {
   "cell_type": "markdown",
   "metadata": {},
   "source": [
    "## 子进程"
   ]
  },
  {
   "cell_type": "markdown",
   "metadata": {},
   "source": [
    "subprocess模块可以非常方便地启动一个子进程，然后控制其输入和输出"
   ]
  },
  {
   "cell_type": "code",
   "execution_count": 25,
   "metadata": {},
   "outputs": [
    {
     "name": "stdout",
     "output_type": "stream",
     "text": [
      "$ nslookup www.python.org\n",
      "Exit code: 0\n"
     ]
    }
   ],
   "source": [
    "import subprocess\n",
    "\n",
    "print('$ nslookup www.python.org')\n",
    "r = subprocess.call(('nslookup', 'www.python.org'))\n",
    "print('Exit code:', r)"
   ]
  },
  {
   "cell_type": "code",
   "execution_count": 83,
   "metadata": {
    "scrolled": false
   },
   "outputs": [
    {
     "name": "stdout",
     "output_type": "stream",
     "text": [
      "$ nslookup\n",
      "Server:\t\t10.8.8.8\n",
      "Address:\t10.8.8.8#53\n",
      "\n",
      "Non-authoritative answer:\n",
      "python.org\tmail exchanger = 50 mail.python.org.\n",
      "\n",
      "Authoritative answers can be found from:\n",
      "\n",
      "\n",
      "\n",
      "Exit code: 0\n"
     ]
    }
   ],
   "source": [
    "import subprocess\n",
    "\n",
    "print('$ nslookup')\n",
    "p = subprocess.Popen(['nslookup'], stdin=subprocess.PIPE, stdout=subprocess.PIPE, stderr=subprocess.PIPE)\n",
    "output, err = p.communicate(b'set q=mx\\npython.org\\nexit\\n')\n",
    "print(output.decode('utf-8'))\n",
    "print(err.decode('utf-8'))\n",
    "print('Exit code:', p.returncode)"
   ]
  },
  {
   "cell_type": "markdown",
   "metadata": {},
   "source": [
    "原来下面这种方法就可以简单获取output和err"
   ]
  },
  {
   "cell_type": "code",
   "execution_count": 82,
   "metadata": {},
   "outputs": [
    {
     "name": "stdout",
     "output_type": "stream",
     "text": [
      "$ ls -l\n",
      "total 40\n",
      "-rw-r--r--  1 sunyubo  staff   252 11 26 14:19 do_folk.py\n",
      "-rw-r--r--  1 sunyubo  staff     0 12  1 17:46 err.txt\n",
      "-rw-r--r--  1 sunyubo  staff   244 12  1 17:46 out.txt\n",
      "-rw-r--r--  1 sunyubo  staff  8652 12  1 17:50 多进程.ipynb\n",
      "\n",
      "\n",
      "Exit code: 0\n"
     ]
    }
   ],
   "source": [
    "import subprocess\n",
    "\n",
    "print('$ ls -l')\n",
    "p = subprocess.Popen(['ls', '-l'], stdin=subprocess.PIPE, stdout=subprocess.PIPE, stderr=subprocess.PIPE)\n",
    "output, err = p.communicate(b'')\n",
    "print(output.decode('utf-8'))\n",
    "print(err.decode('utf-8'))\n",
    "print('Exit code:', p.returncode)"
   ]
  },
  {
   "cell_type": "markdown",
   "metadata": {},
   "source": [
    "尝试获取执行命令的stdout和stderr\n",
    "- ByteIO 失败，因为没有fileno方法\n",
    "- File 成功，将结果写到两个文件中"
   ]
  },
  {
   "cell_type": "code",
   "execution_count": 80,
   "metadata": {
    "scrolled": true
   },
   "outputs": [
    {
     "name": "stdout",
     "output_type": "stream",
     "text": [
      "$ ls -l\n",
      "Done with code None\n",
      "0\n",
      "0\n",
      "0\n",
      "244\n",
      "Reading out.txt\n",
      "total 32\n",
      "-rw-r--r--  1 sunyubo  staff    252 11 26 14:19 do_folk.py\n",
      "-rw-r--r--  1 sunyubo  staff      0 12  1 17:46 err.txt\n",
      "-rw-r--r--  1 sunyubo  staff      0 12  1 17:46 out.txt\n",
      "-rw-r--r--  1 sunyubo  staff  10537 12  1 17:44 多进程.ipynb\n",
      "\n",
      "Reading err.txt\n",
      "\n"
     ]
    }
   ],
   "source": [
    "import subprocess\n",
    "from io import BytesIO\n",
    "import pathlib\n",
    "import time\n",
    "\n",
    "print('$ ls -l')\n",
    "\n",
    "out = open('out.txt', 'wb')\n",
    "err = open('err.txt', 'wb')\n",
    "\n",
    "p = subprocess.Popen(['ls', '-l'], stdout=out, stderr=err)\n",
    "print('Done with code', p.returncode)\n",
    "\n",
    "print(out.tell())\n",
    "out.flush()\n",
    "print(out.tell())\n",
    "# err.flush()\n",
    "# out.close()\n",
    "print(out.tell())\n",
    "# err.close()\n",
    "\n",
    "time.sleep(1)\n",
    "print(out.tell())\n",
    "\n",
    "for file in ['out.txt', 'err.txt']:\n",
    "    print('Reading %s' % (file, ))\n",
    "    with open(file, 'rb') as f:\n",
    "        c = f.read()\n",
    "        print(c.decode('utf-8'))"
   ]
  },
  {
   "cell_type": "markdown",
   "metadata": {},
   "source": [
    "## 进程间通讯"
   ]
  },
  {
   "cell_type": "code",
   "execution_count": 86,
   "metadata": {},
   "outputs": [
    {
     "name": "stdout",
     "output_type": "stream",
     "text": [
      "Process to write: 63021\n",
      "Put A to quese...\n",
      "Process to read: 63022\n",
      "Get A from queue.\n",
      "Put B to quese...\n",
      "Get B from queue.\n",
      "Put C to quese...\n",
      "Get C from queue.\n"
     ]
    }
   ],
   "source": [
    "from multiprocessing import Process, Queue\n",
    "import os, time, random\n",
    "\n",
    "# 写数据进程\n",
    "def write(q):\n",
    "    print('Process to write: %s' % os.getpid())\n",
    "    for value in ['A', 'B', 'C']:\n",
    "        print('Put %s to quese...' % value)\n",
    "        q.put(value)\n",
    "        time.sleep(random.random() * 3)\n",
    "    \n",
    "# 读数据进程\n",
    "def read(q):\n",
    "    print('Process to read: %s' % os.getpid())\n",
    "    while True:\n",
    "        value = q.get(True)\n",
    "        print('Get %s from queue.' % value)\n",
    "        \n",
    "def main():\n",
    "    q = Queue()\n",
    "    pw = Process(target=write, args=(q,))\n",
    "    pr = Process(target=read, args=(q,))\n",
    "    \n",
    "    # 启动写进程\n",
    "    pw.start()\n",
    "    \n",
    "    # 启动读进程\n",
    "    pr.start()\n",
    "    \n",
    "    # 等待写进程结束\n",
    "    pw.join()\n",
    "    \n",
    "    # 强行终止读进程\n",
    "    pr.terminate()\n",
    "\n",
    "main()"
   ]
  }
 ],
 "metadata": {
  "kernelspec": {
   "display_name": "Python 3",
   "language": "python",
   "name": "python3"
  },
  "language_info": {
   "codemirror_mode": {
    "name": "ipython",
    "version": 3
   },
   "file_extension": ".py",
   "mimetype": "text/x-python",
   "name": "python",
   "nbconvert_exporter": "python",
   "pygments_lexer": "ipython3",
   "version": "3.7.0"
  }
 },
 "nbformat": 4,
 "nbformat_minor": 2
}
