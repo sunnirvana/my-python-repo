{
 "cells": [
  {
   "cell_type": "markdown",
   "metadata": {},
   "source": [
    "# 多进程 vs 多线程"
   ]
  },
  {
   "cell_type": "markdown",
   "metadata": {},
   "source": [
    "## 多多对比\n",
    "### 多进程\n",
    "- 优点\n",
    "    - 稳定性高, 子进程挂了, 不会影响其他子进程. 而主进程只是负责分发任务, 相对来说不容易挂;\n",
    "\n",
    "- 缺点\n",
    "    - 性能不高, 创建进程代价较大, 尤其是在Windows下;\n",
    "    - 数量有限, 受到操作系统能力的制约;\n",
    "\n",
    "\n",
    "### 多线程\n",
    "- 优点\n",
    "    - 性能比进程高一丢丢;\n",
    "    - Windows下, 多线程效率高一些;\n",
    "    \n",
    "- 缺点\n",
    "    - 稳定性差, 一崩全崩 (致命缺点), 因为线程共享内存;\\\n"
   ]
  },
  {
   "cell_type": "markdown",
   "metadata": {},
   "source": [
    "## 线程切换\n",
    "\n",
    "- 保存现场 (CPU寄存器状态, 内存页等)\n",
    "- 准备新环境 (恢复上次的寄存器状态, 切换内存页等)"
   ]
  },
  {
   "cell_type": "markdown",
   "metadata": {},
   "source": [
    "## 计算密集型 vs IO密集型\n",
    "\n",
    "### 计算密集型\n",
    "进行大量的计算, 消耗CPU资源很高. \n",
    "#### 对策:\n",
    "1. 高效利用CPU资源, 同时进行的数量应当等于CPU的核心数.\n",
    "2. 提高代码执行效率.\n",
    "    - 优化算法\n",
    "    - 用C语言编写\n",
    "    \n",
    "### IO密集型\n",
    "涉及到网络, 磁盘IO的任务. 消耗CPU很少, 任务的大部分时间都在等待IO操作完成.\n",
    "#### 对策:\n",
    "1. 一定限度地多建任务, 提高CPU效率.\n",
    "2. 使用脚本语言开发."
   ]
  },
  {
   "cell_type": "markdown",
   "metadata": {},
   "source": [
    "## 异步IO\n",
    "事件驱动模型,\n",
    "在Python中, 单线程的异步编程模型称为**协程**"
   ]
  }
 ],
 "metadata": {
  "kernelspec": {
   "display_name": "Python 3",
   "language": "python",
   "name": "python3"
  },
  "language_info": {
   "codemirror_mode": {
    "name": "ipython",
    "version": 3
   },
   "file_extension": ".py",
   "mimetype": "text/x-python",
   "name": "python",
   "nbconvert_exporter": "python",
   "pygments_lexer": "ipython3",
   "version": "3.7.0"
  }
 },
 "nbformat": 4,
 "nbformat_minor": 2
}
